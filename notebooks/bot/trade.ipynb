{
 "cells": [
  {
   "cell_type": "code",
   "execution_count": 1,
   "metadata": {},
   "outputs": [
    {
     "name": "stdout",
     "output_type": "stream",
     "text": [
      "OrderedDict([('BYBIT_API_KEY', '0izad1dtPZ37CdTvdf'), ('BYBIT_SECRET_KEY', 'OffgrzWd8OFf2sxI2L1BC5Spo5StUyYD9YJZ'), ('API_BASE_URL', 'https://api.bybit.com'), ('API_NAME', 'tsugumi')])\n"
     ]
    }
   ],
   "source": [
    "import os\n",
    "import sys\n",
    "from dotenv import dotenv_values\n",
    "\n",
    "env_config = dotenv_values(\"../../bot/.env\")\n",
    "print(env_config)\n",
    "sys.path.append(\"../../bot/src/\")\n",
    "from utils.trade import Trade\n",
    "from utils.interfaces import Settings"
   ]
  },
  {
   "cell_type": "code",
   "execution_count": 2,
   "metadata": {},
   "outputs": [
    {
     "data": {
      "text/plain": [
       "Settings(BYBIT_API_KEY='0izad1dtPZ37CdTvdf', BYBIT_SECRET_KEY='OffgrzWd8OFf2sxI2L1BC5Spo5StUyYD9YJZ', API_BASE_URL='https://api.bybit.com', API_NAME='tsugumi')"
      ]
     },
     "execution_count": 2,
     "metadata": {},
     "output_type": "execute_result"
    }
   ],
   "source": [
    "from pydantic import BaseSettings\n",
    "\n",
    "class Settings(BaseSettings):\n",
    "    BYBIT_API_KEY: str\n",
    "    BYBIT_SECRET_KEY: str\n",
    "    API_BASE_URL: str\n",
    "    API_NAME: str\n",
    "\n",
    "    class Config:\n",
    "        env_file = \"../../bot/.env\"\n",
    "\n",
    "settings = Settings()\n",
    "settings\n"
   ]
  },
  {
   "cell_type": "code",
   "execution_count": 3,
   "metadata": {},
   "outputs": [],
   "source": [
    "trade = Trade(api_key=settings.BYBIT_API_KEY, api_secret=settings.BYBIT_SECRET_KEY, base_url=settings.API_BASE_URL)"
   ]
  },
  {
   "cell_type": "code",
   "execution_count": 4,
   "metadata": {},
   "outputs": [
    {
     "data": {
      "text/plain": [
       "['XRPUSD',\n",
       " 'BITUSD',\n",
       " 'BTCUSD',\n",
       " 'DOTUSD',\n",
       " 'EOSUSD',\n",
       " 'ETHUSD',\n",
       " 'BTCUSDT',\n",
       " 'ETHUSDT',\n",
       " 'EOSUSDT',\n",
       " 'XRPUSDT',\n",
       " 'BCHUSDT',\n",
       " 'LTCUSDT',\n",
       " 'XTZUSDT',\n",
       " 'LINKUSDT',\n",
       " 'ADAUSDT',\n",
       " 'DOTUSDT',\n",
       " 'UNIUSDT',\n",
       " 'XEMUSDT',\n",
       " 'SUSHIUSDT',\n",
       " 'AAVEUSDT',\n",
       " 'DOGEUSDT',\n",
       " 'MATICUSDT',\n",
       " 'ETCUSDT',\n",
       " 'BNBUSDT',\n",
       " 'FILUSDT',\n",
       " 'SOLUSDT',\n",
       " 'XLMUSDT',\n",
       " 'TRXUSDT',\n",
       " 'VETUSDT',\n",
       " 'THETAUSDT',\n",
       " 'COMPUSDT',\n",
       " 'AXSUSDT',\n",
       " 'LUNAUSDT',\n",
       " 'SANDUSDT',\n",
       " 'MANAUSDT',\n",
       " 'KSMUSDT',\n",
       " 'ATOMUSDT',\n",
       " 'AVAXUSDT',\n",
       " 'CHZUSDT',\n",
       " 'CRVUSDT',\n",
       " 'ENJUSDT',\n",
       " 'GRTUSDT',\n",
       " 'SHIB1000USDT',\n",
       " 'YFIUSDT',\n",
       " 'BSVUSDT',\n",
       " 'ICPUSDT',\n",
       " 'FTMUSDT',\n",
       " 'ALGOUSDT',\n",
       " 'DYDXUSDT',\n",
       " 'NEARUSDT',\n",
       " 'SRMUSDT',\n",
       " 'OMGUSDT',\n",
       " 'IOSTUSDT',\n",
       " 'DASHUSDT',\n",
       " 'FTTUSDT',\n",
       " 'BITUSDT',\n",
       " 'GALAUSDT',\n",
       " 'CELRUSDT',\n",
       " 'HBARUSDT',\n",
       " 'ONEUSDT',\n",
       " 'C98USDT',\n",
       " 'COTIUSDT',\n",
       " 'ALICEUSDT',\n",
       " 'EGLDUSDT',\n",
       " 'KEEPUSDT',\n",
       " 'TLMUSDT',\n",
       " 'RUNEUSDT',\n",
       " 'ILVUSDT',\n",
       " 'FLOWUSDT',\n",
       " 'WOOUSDT',\n",
       " 'LRCUSDT',\n",
       " 'ENSUSDT',\n",
       " 'IOTXUSDT',\n",
       " 'CHRUSDT',\n",
       " 'BATUSDT',\n",
       " 'STORJUSDT',\n",
       " 'SNXUSDT',\n",
       " 'SLPUSDT',\n",
       " 'ANKRUSDT',\n",
       " 'LPTUSDT',\n",
       " 'QTUMUSDT',\n",
       " 'CROUSDT',\n",
       " 'SXPUSDT',\n",
       " 'YGGUSDT',\n",
       " 'ZECUSDT',\n",
       " 'IMXUSDT',\n",
       " 'SFPUSDT',\n",
       " 'AUDIOUSDT',\n",
       " 'ZENUSDT',\n",
       " 'BTTUSDT',\n",
       " 'GTCUSDT',\n",
       " 'LITUSDT',\n",
       " 'CVCUSDT',\n",
       " 'RNDRUSDT',\n",
       " 'SCUSDT',\n",
       " 'RSRUSDT',\n",
       " 'STXUSDT',\n",
       " 'MASKUSDT',\n",
       " 'CTKUSDT',\n",
       " 'BICOUSDT',\n",
       " 'REQUSDT',\n",
       " '1INCHUSDT',\n",
       " 'KLAYUSDT',\n",
       " 'SPELLUSDT',\n",
       " 'BTCUSDH22',\n",
       " 'BTCUSDZ21',\n",
       " 'ETHUSDH22',\n",
       " 'ETHUSDZ21']"
      ]
     },
     "execution_count": 4,
     "metadata": {},
     "output_type": "execute_result"
    }
   ],
   "source": [
    "symbols_list = trade.symbols_list()\n",
    "symbols_list"
   ]
  },
  {
   "cell_type": "code",
   "execution_count": 5,
   "metadata": {},
   "outputs": [
    {
     "data": {
      "text/plain": [
       "{'buy': 0, 'sell': 0}"
      ]
     },
     "execution_count": 5,
     "metadata": {},
     "output_type": "execute_result"
    }
   ],
   "source": [
    "position_list = trade.my_position_amount(symbol=\"BTCUSDT\")\n",
    "position_list"
   ]
  },
  {
   "cell_type": "code",
   "execution_count": 6,
   "metadata": {},
   "outputs": [
    {
     "ename": "InvalidRequestError",
     "evalue": "Oc_diff[405700000], new_oc[405700000] with ob[0]+ab[0] (ErrCode: 130021) (ErrTime: 12:32:19).\nRequest → POST https://api.bybit.com/private/linear/order/create: {'api_key': '0izad1dtPZ37CdTvdf', 'close_on_trigger': False, 'order_type': 'Limit', 'price': 40000, 'qty': 0.001, 'recv_window': 5000, 'reduce_only': False, 'side': 'Buy', 'stop_loss': 30000, 'symbol': 'BTCUSDT', 'time_in_force': 'GoodTillCancel', 'timestamp': 1639657939137, 'sign': '5d7e0c923f31642747530e47b0d0fbd1ea043a7459f41b27dbdac6056847e6c4'}.",
     "output_type": "error",
     "traceback": [
      "\u001b[0;31m---------------------------------------------------------------------------\u001b[0m",
      "\u001b[0;31mInvalidRequestError\u001b[0m                       Traceback (most recent call last)",
      "\u001b[0;32m/var/folders/5n/wm7h51g57cs5277hx71v2j580000gn/T/ipykernel_6290/1875201127.py\u001b[0m in \u001b[0;36m<module>\u001b[0;34m\u001b[0m\n\u001b[0;32m----> 1\u001b[0;31m \u001b[0mres\u001b[0m \u001b[0;34m=\u001b[0m \u001b[0mtrade\u001b[0m\u001b[0;34m.\u001b[0m\u001b[0mcreate_limit_order\u001b[0m\u001b[0;34m(\u001b[0m\u001b[0msymbol\u001b[0m\u001b[0;34m=\u001b[0m\u001b[0;34m\"BTCUSDT\"\u001b[0m\u001b[0;34m,\u001b[0m \u001b[0mside\u001b[0m\u001b[0;34m=\u001b[0m\u001b[0;34m\"Buy\"\u001b[0m\u001b[0;34m,\u001b[0m \u001b[0mquantity\u001b[0m\u001b[0;34m=\u001b[0m\u001b[0;36m0.001\u001b[0m\u001b[0;34m,\u001b[0m \u001b[0morder_price\u001b[0m\u001b[0;34m=\u001b[0m\u001b[0;36m40000\u001b[0m\u001b[0;34m,\u001b[0m \u001b[0mstop_loss_price\u001b[0m\u001b[0;34m=\u001b[0m\u001b[0;36m30000\u001b[0m\u001b[0;34m)\u001b[0m\u001b[0;34m\u001b[0m\u001b[0;34m\u001b[0m\u001b[0m\n\u001b[0m\u001b[1;32m      2\u001b[0m \u001b[0mres\u001b[0m\u001b[0;34m\u001b[0m\u001b[0;34m\u001b[0m\u001b[0m\n",
      "\u001b[0;32m~/projects/bybit_bot/notebooks/bot/../../bot/src/utils/trade.py\u001b[0m in \u001b[0;36mcreate_limit_order\u001b[0;34m(self, symbol, side, quantity, order_price, stop_loss_price)\u001b[0m\n\u001b[1;32m     40\u001b[0m             \u001b[0;32mraise\u001b[0m \u001b[0mValueError\u001b[0m\u001b[0;34m(\u001b[0m\u001b[0;34mf\"Invalid symbol {symbol} for Bybit USDT Perpetual.\"\u001b[0m\u001b[0;34m)\u001b[0m\u001b[0;34m\u001b[0m\u001b[0;34m\u001b[0m\u001b[0m\n\u001b[1;32m     41\u001b[0m \u001b[0;34m\u001b[0m\u001b[0m\n\u001b[0;32m---> 42\u001b[0;31m         res = self.session.place_active_order(\n\u001b[0m\u001b[1;32m     43\u001b[0m             \u001b[0msymbol\u001b[0m\u001b[0;34m=\u001b[0m\u001b[0msymbol\u001b[0m\u001b[0;34m.\u001b[0m\u001b[0mupper\u001b[0m\u001b[0;34m(\u001b[0m\u001b[0;34m)\u001b[0m\u001b[0;34m,\u001b[0m\u001b[0;34m\u001b[0m\u001b[0;34m\u001b[0m\u001b[0m\n\u001b[1;32m     44\u001b[0m             \u001b[0mside\u001b[0m\u001b[0;34m=\u001b[0m\u001b[0mside\u001b[0m\u001b[0;34m,\u001b[0m\u001b[0;34m\u001b[0m\u001b[0;34m\u001b[0m\u001b[0m\n",
      "\u001b[0;32m~/projects/bybit_bot/.venv/lib/python3.9/site-packages/pybit/__init__.py\u001b[0m in \u001b[0;36mplace_active_order\u001b[0;34m(self, **kwargs)\u001b[0m\n\u001b[1;32m    486\u001b[0m             \u001b[0msuffix\u001b[0m \u001b[0;34m=\u001b[0m \u001b[0;34m'/v2/private/order/create'\u001b[0m\u001b[0;34m\u001b[0m\u001b[0;34m\u001b[0m\u001b[0m\n\u001b[1;32m    487\u001b[0m \u001b[0;34m\u001b[0m\u001b[0m\n\u001b[0;32m--> 488\u001b[0;31m         return self._submit_request(\n\u001b[0m\u001b[1;32m    489\u001b[0m             \u001b[0mmethod\u001b[0m\u001b[0;34m=\u001b[0m\u001b[0;34m'POST'\u001b[0m\u001b[0;34m,\u001b[0m\u001b[0;34m\u001b[0m\u001b[0;34m\u001b[0m\u001b[0m\n\u001b[1;32m    490\u001b[0m             \u001b[0mpath\u001b[0m\u001b[0;34m=\u001b[0m\u001b[0mself\u001b[0m\u001b[0;34m.\u001b[0m\u001b[0mendpoint\u001b[0m \u001b[0;34m+\u001b[0m \u001b[0msuffix\u001b[0m\u001b[0;34m,\u001b[0m\u001b[0;34m\u001b[0m\u001b[0;34m\u001b[0m\u001b[0m\n",
      "\u001b[0;32m~/projects/bybit_bot/.venv/lib/python3.9/site-packages/pybit/__init__.py\u001b[0m in \u001b[0;36m_submit_request\u001b[0;34m(self, method, path, query, auth)\u001b[0m\n\u001b[1;32m   1873\u001b[0m \u001b[0;34m\u001b[0m\u001b[0m\n\u001b[1;32m   1874\u001b[0m                 \u001b[0;32melse\u001b[0m\u001b[0;34m:\u001b[0m\u001b[0;34m\u001b[0m\u001b[0;34m\u001b[0m\u001b[0m\n\u001b[0;32m-> 1875\u001b[0;31m                     raise InvalidRequestError(\n\u001b[0m\u001b[1;32m   1876\u001b[0m                         \u001b[0mrequest\u001b[0m\u001b[0;34m=\u001b[0m\u001b[0;34mf'{method} {path}: {req_params}'\u001b[0m\u001b[0;34m,\u001b[0m\u001b[0;34m\u001b[0m\u001b[0;34m\u001b[0m\u001b[0m\n\u001b[1;32m   1877\u001b[0m                         \u001b[0mmessage\u001b[0m\u001b[0;34m=\u001b[0m\u001b[0ms_json\u001b[0m\u001b[0;34m[\u001b[0m\u001b[0;34m\"ret_msg\"\u001b[0m\u001b[0;34m]\u001b[0m\u001b[0;34m,\u001b[0m\u001b[0;34m\u001b[0m\u001b[0;34m\u001b[0m\u001b[0m\n",
      "\u001b[0;31mInvalidRequestError\u001b[0m: Oc_diff[405700000], new_oc[405700000] with ob[0]+ab[0] (ErrCode: 130021) (ErrTime: 12:32:19).\nRequest → POST https://api.bybit.com/private/linear/order/create: {'api_key': '0izad1dtPZ37CdTvdf', 'close_on_trigger': False, 'order_type': 'Limit', 'price': 40000, 'qty': 0.001, 'recv_window': 5000, 'reduce_only': False, 'side': 'Buy', 'stop_loss': 30000, 'symbol': 'BTCUSDT', 'time_in_force': 'GoodTillCancel', 'timestamp': 1639657939137, 'sign': '5d7e0c923f31642747530e47b0d0fbd1ea043a7459f41b27dbdac6056847e6c4'}."
     ]
    }
   ],
   "source": [
    "res = trade.create_limit_order(symbol=\"BTCUSDT\", side=\"Buy\", quantity=0.001, order_price=40000, stop_loss_price=30000)\n",
    "res"
   ]
  },
  {
   "cell_type": "code",
   "execution_count": 13,
   "metadata": {},
   "outputs": [],
   "source": [
    "from pybit import HTTP\n",
    "\n",
    "session = HTTP(settings.API_BASE_URL, settings.BYBIT_API_KEY, settings.BYBIT_SECRET_KEY)\n",
    "res = session.place_active_order(\n",
    "            symbol=\"BTCUSDT\",\n",
    "            side=\"Buy\",\n",
    "            order_type=\"Limit\",\n",
    "            qty=0.001,\n",
    "            price=40000,\n",
    "            stop_loss=30000,\n",
    "            time_in_force=\"GoodTillCancel\",\n",
    "            reduce_only=False,\n",
    "            close_on_trigger=False,\n",
    "        )"
   ]
  },
  {
   "cell_type": "code",
   "execution_count": 9,
   "metadata": {},
   "outputs": [
    {
     "ename": "InvalidRequestError",
     "evalue": "Invalid api_key (ErrCode: 10003) (ErrTime: 12:40:31).\nRequest → POST https://api-testnet.bybit.com/private/linear/order/create: {'api_key': '', 'close_on_trigger': False, 'order_type': 'Limit', 'price': 8083, 'qty': 0.01, 'recv_window': 5000, 'reduce_only': False, 'side': 'Sell', 'symbol': 'BTCUSDT', 'time_in_force': 'GoodTillCancel', 'timestamp': 1639658431745, 'sign': '2ea11666ec707f64973d10ba3377557726f35dcd036ed30bbc3547303a24e529'}.",
     "output_type": "error",
     "traceback": [
      "\u001b[0;31m---------------------------------------------------------------------------\u001b[0m",
      "\u001b[0;31mInvalidRequestError\u001b[0m                       Traceback (most recent call last)",
      "\u001b[0;32m/var/folders/5n/wm7h51g57cs5277hx71v2j580000gn/T/ipykernel_6290/1426880554.py\u001b[0m in \u001b[0;36m<module>\u001b[0;34m\u001b[0m\n\u001b[1;32m      1\u001b[0m session = HTTP(\"https://api-testnet.bybit.com\",\n\u001b[1;32m      2\u001b[0m                api_key=\"\", api_secret=\"\")\n\u001b[0;32m----> 3\u001b[0;31m print(session.place_active_order(\n\u001b[0m\u001b[1;32m      4\u001b[0m     \u001b[0msymbol\u001b[0m\u001b[0;34m=\u001b[0m\u001b[0;34m\"BTCUSDT\"\u001b[0m\u001b[0;34m,\u001b[0m\u001b[0;34m\u001b[0m\u001b[0;34m\u001b[0m\u001b[0m\n\u001b[1;32m      5\u001b[0m     \u001b[0mside\u001b[0m\u001b[0;34m=\u001b[0m\u001b[0;34m\"Sell\"\u001b[0m\u001b[0;34m,\u001b[0m\u001b[0;34m\u001b[0m\u001b[0;34m\u001b[0m\u001b[0m\n",
      "\u001b[0;32m~/projects/bybit_bot/.venv/lib/python3.9/site-packages/pybit/__init__.py\u001b[0m in \u001b[0;36mplace_active_order\u001b[0;34m(self, **kwargs)\u001b[0m\n\u001b[1;32m    486\u001b[0m             \u001b[0msuffix\u001b[0m \u001b[0;34m=\u001b[0m \u001b[0;34m'/v2/private/order/create'\u001b[0m\u001b[0;34m\u001b[0m\u001b[0;34m\u001b[0m\u001b[0m\n\u001b[1;32m    487\u001b[0m \u001b[0;34m\u001b[0m\u001b[0m\n\u001b[0;32m--> 488\u001b[0;31m         return self._submit_request(\n\u001b[0m\u001b[1;32m    489\u001b[0m             \u001b[0mmethod\u001b[0m\u001b[0;34m=\u001b[0m\u001b[0;34m'POST'\u001b[0m\u001b[0;34m,\u001b[0m\u001b[0;34m\u001b[0m\u001b[0;34m\u001b[0m\u001b[0m\n\u001b[1;32m    490\u001b[0m             \u001b[0mpath\u001b[0m\u001b[0;34m=\u001b[0m\u001b[0mself\u001b[0m\u001b[0;34m.\u001b[0m\u001b[0mendpoint\u001b[0m \u001b[0;34m+\u001b[0m \u001b[0msuffix\u001b[0m\u001b[0;34m,\u001b[0m\u001b[0;34m\u001b[0m\u001b[0;34m\u001b[0m\u001b[0m\n",
      "\u001b[0;32m~/projects/bybit_bot/.venv/lib/python3.9/site-packages/pybit/__init__.py\u001b[0m in \u001b[0;36m_submit_request\u001b[0;34m(self, method, path, query, auth)\u001b[0m\n\u001b[1;32m   1873\u001b[0m \u001b[0;34m\u001b[0m\u001b[0m\n\u001b[1;32m   1874\u001b[0m                 \u001b[0;32melse\u001b[0m\u001b[0;34m:\u001b[0m\u001b[0;34m\u001b[0m\u001b[0;34m\u001b[0m\u001b[0m\n\u001b[0;32m-> 1875\u001b[0;31m                     raise InvalidRequestError(\n\u001b[0m\u001b[1;32m   1876\u001b[0m                         \u001b[0mrequest\u001b[0m\u001b[0;34m=\u001b[0m\u001b[0;34mf'{method} {path}: {req_params}'\u001b[0m\u001b[0;34m,\u001b[0m\u001b[0;34m\u001b[0m\u001b[0;34m\u001b[0m\u001b[0m\n\u001b[1;32m   1877\u001b[0m                         \u001b[0mmessage\u001b[0m\u001b[0;34m=\u001b[0m\u001b[0ms_json\u001b[0m\u001b[0;34m[\u001b[0m\u001b[0;34m\"ret_msg\"\u001b[0m\u001b[0;34m]\u001b[0m\u001b[0;34m,\u001b[0m\u001b[0;34m\u001b[0m\u001b[0;34m\u001b[0m\u001b[0m\n",
      "\u001b[0;31mInvalidRequestError\u001b[0m: Invalid api_key (ErrCode: 10003) (ErrTime: 12:40:31).\nRequest → POST https://api-testnet.bybit.com/private/linear/order/create: {'api_key': '', 'close_on_trigger': False, 'order_type': 'Limit', 'price': 8083, 'qty': 0.01, 'recv_window': 5000, 'reduce_only': False, 'side': 'Sell', 'symbol': 'BTCUSDT', 'time_in_force': 'GoodTillCancel', 'timestamp': 1639658431745, 'sign': '2ea11666ec707f64973d10ba3377557726f35dcd036ed30bbc3547303a24e529'}."
     ]
    }
   ],
   "source": [
    "session = HTTP(\"https://api-testnet.bybit.com\",\n",
    "               api_key=\"\", api_secret=\"\")\n",
    "print(session.place_active_order(\n",
    "    symbol=\"BTCUSDT\",\n",
    "    side=\"Sell\",\n",
    "    order_type=\"Limit\",\n",
    "    qty=0.01,\n",
    "    price=8083,\n",
    "    time_in_force=\"GoodTillCancel\",\n",
    "    reduce_only=False,\n",
    "    close_on_trigger=False\n",
    "))"
   ]
  },
  {
   "cell_type": "code",
   "execution_count": null,
   "metadata": {},
   "outputs": [],
   "source": []
  }
 ],
 "metadata": {
  "interpreter": {
   "hash": "c22277b2274094cd08381d03b939d13a7479559a75fd2d325b5c93af309314cb"
  },
  "kernelspec": {
   "display_name": "Python 3.9.7 64-bit ('.venv': poetry)",
   "language": "python",
   "name": "python3"
  },
  "language_info": {
   "codemirror_mode": {
    "name": "ipython",
    "version": 3
   },
   "file_extension": ".py",
   "mimetype": "text/x-python",
   "name": "python",
   "nbconvert_exporter": "python",
   "pygments_lexer": "ipython3",
   "version": "3.9.7"
  },
  "orig_nbformat": 4
 },
 "nbformat": 4,
 "nbformat_minor": 2
}
